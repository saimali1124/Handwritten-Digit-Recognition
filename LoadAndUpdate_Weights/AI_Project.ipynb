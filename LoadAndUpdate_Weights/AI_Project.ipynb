{
 "cells": [
  {
   "cell_type": "code",
   "execution_count": 1,
   "id": "e7bf3030",
   "metadata": {},
   "outputs": [
    {
     "name": "stderr",
     "output_type": "stream",
     "text": [
      "2023-06-05 22:18:22.549629: I tensorflow/core/platform/cpu_feature_guard.cc:182] This TensorFlow binary is optimized to use available CPU instructions in performance-critical operations.\n",
      "To enable the following instructions: AVX2 FMA, in other operations, rebuild TensorFlow with the appropriate compiler flags.\n"
     ]
    }
   ],
   "source": [
    "import numpy as np\n",
    "# scipy.special for the sigmoid function expit()\n",
    "import scipy.special\n",
    "import pandas as pd\n",
    "import cv2 as cv\n",
    "import os\n",
    "from keras.models import Sequential\n",
    "\n",
    "from keras.layers import Dense\n"
   ]
  },
  {
   "cell_type": "code",
   "execution_count": 5,
   "id": "094d88a9",
   "metadata": {},
   "outputs": [
    {
     "name": "stdout",
     "output_type": "stream",
     "text": [
      "Loading Training Set...\n",
      "\n",
      "60000\n",
      "60000\n",
      "Loading Testing Set...\n",
      "\n",
      "10000\n",
      "10000\n",
      "Storing training data to csv...\n",
      "Storing testing data to csv...\n"
     ]
    }
   ],
   "source": [
    "# Phase 1 (Loading , Cleaning and Pre-processing dataset)\n",
    "\n",
    "def load_images_from_folder(folder):\n",
    "\n",
    "    images = []\n",
    "    for filename in os.listdir(folder):\n",
    "        # Data(Image) Collection\n",
    "        img = cv.imread(os.path.join(folder,filename) , 0)\n",
    "        if img is not None:\n",
    "            # Image Pre-processing\n",
    "            ## Resizing\n",
    "            resizedImage = cv.resize(img, (28, 28), interpolation=cv.INTER_AREA)\n",
    "\n",
    "            ## making pixels lie in the range [0,1]\n",
    "\n",
    "            # resizedImage = resizedImage // 255\n",
    "            resizedImage = cv.normalize(resizedImage, None, 0.01, 1.0, cv.NORM_MINMAX, dtype=cv.CV_32F)\n",
    "    \n",
    "            images.append(resizedImage)\n",
    "            \n",
    "\n",
    "    return np.array(images)\n",
    "\n",
    "def loadDataSet(folder):\n",
    "\n",
    "    dataSet = np.zeros((0, 28, 28), dtype=int)\n",
    "    dataSetLabels = np.zeros((0), dtype=int)\n",
    "\n",
    "    for i in range(0,10):\n",
    "\n",
    "        folderName = folder + \"/\" + str(i) + \"/\"\n",
    "        ans = load_images_from_folder(folderName)\n",
    "        #print(len(ans))\n",
    "        dataSet = np.concatenate((dataSet,ans))\n",
    "        dataSetLabels = np.concatenate((dataSetLabels, np.full( (len(ans)) , i) ))\n",
    "\n",
    "    return (dataSet, dataSetLabels)\n",
    "\n",
    "\n",
    "if __name__ == '__main__':\n",
    "    \n",
    "    # -------------- Training Set (60,000) ---------------------\n",
    "    print(\"Loading Training Set...\\n\")\n",
    "    trainingSet ,trainingSetLabels = loadDataSet(\"TrainingSet\")\n",
    "    trainingSet_2D = trainingSet.reshape((60000,784))\n",
    "    \n",
    "    print(len(trainingSet))\n",
    "    print(len(trainingSetLabels))\n",
    "    \n",
    "\n",
    "\n",
    "    \n",
    "    # # -------------------- Testing Set (10,000) ------------------\n",
    "    print(\"Loading Testing Set...\\n\")\n",
    "    testingSet ,testingSetLabels = loadDataSet(\"TestingSet\")\n",
    "    testingSet_2D = testingSet.reshape((10000,784))\n",
    "\n",
    "\n",
    "    print(len(testingSet))\n",
    "    print(len(testingSetLabels))\n",
    "    \n",
    "    \n",
    "\n",
    "\n",
    "    #----------------- Storing  training set to to csv --------------------\n",
    "    \n",
    "    print(\"Storing training data to csv...\")\n",
    "    # convert the 2D numpy array to a 2D pandas DataFrame\n",
    "    trainSet_df = pd.DataFrame(trainingSet_2D)\n",
    "    \n",
    "    # add a 'Label' column to the DataFrame\n",
    "    trainSet_df['Label'] = pd.Series(trainingSetLabels)\n",
    "    \n",
    "    trainSet_df.to_csv('Training_Set.csv')\n",
    "\n",
    "    ## ----------------  Storing  testing set to to csv--------------------\n",
    "   \n",
    "    print(\"Storing testing data to csv...\")\n",
    "    # convert the 2D numpy array to a 2D pandas DataFrame\n",
    "    testSet_df = pd.DataFrame(testingSet_2D)\n",
    "\n",
    "    # add a 'Label' column to the DataFrame\n",
    "    testSet_df['Label'] = pd.Series(testingSetLabels)\n",
    "    \n",
    "    testSet_df.to_csv('Testing_Set.csv')\n"
   ]
  },
  {
   "cell_type": "code",
   "execution_count": 6,
   "id": "44175ac9",
   "metadata": {},
   "outputs": [],
   "source": [
    "# From this point onwards (Phase 2)\n",
    "\n",
    "class neuralNetwork:\n",
    "    \n",
    "    \n",
    "    # initialise the neural network\n",
    "    def __init__(self, inputnodes, hiddennodes, outputnodes, learningrate):\n",
    "        # set number of nodes in each input, hidden, output layer\n",
    "        self.inodes = inputnodes\n",
    "        self.hnodes = hiddennodes\n",
    "        self.onodes = outputnodes\n",
    "        \n",
    "        # link weight matrices, wih and who\n",
    "        # weights inside the arrays are w_i_j, where link is from node i to node j in the next layer\n",
    "        # w11 w21\n",
    "        # w12 w22 etc\n",
    "        self.wih = np.random.normal(0.0, pow(self.inodes, -0.5), (self.hnodes, self.inodes))\n",
    "        self.who = np.random.normal(0.0, pow(self.hnodes, -0.5), (self.onodes, self.hnodes))\n",
    "\n",
    "        # learning rate\n",
    "        self.lr = learningrate\n",
    "        \n",
    "        # activation function is the sigmoid function\n",
    "        self.activation_function = lambda x: scipy.special.expit(x)\n",
    "        \n",
    "        pass\n",
    "\n",
    "    \n",
    "    # train the neural network\n",
    "    def train(self, inputs_list, targets_list):\n",
    "        \n",
    "        # convert inputs list to 2d array\n",
    "        inputs = np.array(inputs_list, ndmin=2).T\n",
    "        targets = np.array(targets_list, ndmin=2).T\n",
    "        \n",
    "        # calculate signals into hidden layer\n",
    "        hidden_inputs = np.dot(self.wih, inputs)\n",
    "        # calculate the signals emerging from hidden layer\n",
    "        hidden_outputs = self.activation_function(hidden_inputs)\n",
    "        \n",
    "        # calculate signals into final output layer\n",
    "        final_inputs = np.dot(self.who, hidden_outputs)\n",
    "        # calculate the signals emerging from final output layer\n",
    "        final_outputs = self.activation_function(final_inputs)\n",
    "        \n",
    "        # output layer error is the (target - actual)\n",
    "        output_errors = targets - final_outputs\n",
    "        # hidden layer error is the output_errors, split by weights, recombined at hidden nodes\n",
    "        hidden_errors = np.dot(self.who.T, output_errors) \n",
    "        \n",
    "        # update the weights for the links between the hidden and output layers\n",
    "        self.who += self.lr * np.dot((output_errors * final_outputs * (1.0 - final_outputs)), np.transpose(hidden_outputs))\n",
    "        \n",
    "        # update the weights for the links between the input and hidden layers\n",
    "        self.wih += self.lr * np.dot((hidden_errors * hidden_outputs * (1.0 - hidden_outputs)), np.transpose(inputs))\n",
    "        \n",
    "        pass\n",
    "\n",
    "    \n",
    "    # query the neural network\n",
    "    def query(self, inputs_list):\n",
    "        # convert inputs list to 2d array\n",
    "        inputs = np.array(inputs_list, ndmin=2).T\n",
    "        \n",
    "        # calculate signals into hidden layer\n",
    "        hidden_inputs = np.dot(self.wih, inputs)\n",
    "        # calculate the signals emerging from hidden layer\n",
    "        hidden_outputs = self.activation_function(hidden_inputs)\n",
    "        \n",
    "        # calculate signals into final output layer\n",
    "        final_inputs = np.dot(self.who, hidden_outputs)\n",
    "        # calculate the signals emerging from final output layer\n",
    "        final_outputs = self.activation_function(final_inputs)\n",
    "        \n",
    "        return final_outputs\n"
   ]
  },
  {
   "cell_type": "code",
   "execution_count": 7,
   "id": "6615a09d",
   "metadata": {},
   "outputs": [],
   "source": [
    "# number of input, hidden and output nodes\n",
    "input_nodes = 784\n",
    "hidden_nodes = 200\n",
    "output_nodes = 10\n",
    "\n",
    "# learning rate\n",
    "learning_rate = 0.1\n",
    "\n",
    "# create instance of neural network\n",
    "n = neuralNetwork(input_nodes,hidden_nodes,output_nodes, learning_rate)"
   ]
  },
  {
   "cell_type": "code",
   "execution_count": 63,
   "id": "437547e8",
   "metadata": {},
   "outputs": [],
   "source": [
    "df = pd.read_csv('Training_Set.csv')\n",
    "df.drop(['Unnamed: 0'], axis =1, inplace=True)\n",
    "df = df.sample(frac=1)\n"
   ]
  },
  {
   "cell_type": "code",
   "execution_count": 64,
   "id": "1179f58b",
   "metadata": {},
   "outputs": [],
   "source": [
    "labels = df['Label']\n",
    "labels\n",
    "df.drop(['Label'],inplace=True,axis=1)"
   ]
  },
  {
   "cell_type": "code",
   "execution_count": 66,
   "id": "c6a660c0",
   "metadata": {},
   "outputs": [
    {
     "name": "stdout",
     "output_type": "stream",
     "text": [
      "(60000,)\n",
      "(54000, 784) (6000, 784) (54000,) (6000,)\n"
     ]
    }
   ],
   "source": [
    "labels = labels.to_numpy()\n",
    "inputData = df.to_numpy()\n",
    "\n",
    "from sklearn.model_selection import train_test_split\n",
    "X_train,X_test,y_train,y_test = train_test_split(inputData,labels,test_size = 0.1)\n",
    "print(labels.shape)\n",
    "print(X_train.shape,X_test.shape,y_train.shape,y_test.shape)"
   ]
  },
  {
   "cell_type": "code",
   "execution_count": 11,
   "id": "378350c9",
   "metadata": {},
   "outputs": [],
   "source": [
    "df1 = pd.read_csv('Testing_Set.csv')\n",
    "df1.drop(['Unnamed: 0'], axis =1, inplace=True)\n",
    "df1 = df1.sample(frac=1)"
   ]
  },
  {
   "cell_type": "code",
   "execution_count": 12,
   "id": "9d964f84",
   "metadata": {},
   "outputs": [],
   "source": [
    "labels_test = df1['Label']\n",
    "df1.drop(['Label'],inplace=True,axis=1)"
   ]
  },
  {
   "cell_type": "code",
   "execution_count": 13,
   "id": "1690d407",
   "metadata": {},
   "outputs": [],
   "source": [
    "labels_test = labels_test.to_numpy()\n",
    "testingData = df1.to_numpy()"
   ]
  },
  {
   "cell_type": "code",
   "execution_count": 16,
   "id": "84e94248",
   "metadata": {},
   "outputs": [],
   "source": [
    "# test the neural network\n",
    "\n",
    "def test(epochNum):\n",
    "    itr = 0\n",
    "    rightsAns = 0\n",
    "    y_test = []\n",
    "    y_pred = []\n",
    "    \n",
    "    # go through all the records in the test data set\n",
    "    for record in testingData:\n",
    "        # correct answer is first value\n",
    "        correct_label = int(labels_test[itr])\n",
    "        y_test.append(correct_label)\n",
    "        \n",
    "        itr += 1\n",
    "        # query the network\n",
    "        outputs = n.query(record)\n",
    "        # the index of the highest value corresponds to the label\n",
    "        label = np.argmax(outputs)\n",
    "        y_pred.append(label)\n",
    "       \n",
    "        # append correct or incorrect to list\n",
    "        if (label == correct_label):\n",
    "            rightsAns += 1\n",
    "    \n",
    "    y_test = np.array(y_test)\n",
    "    y_test = to_categorical(y_test, num_classes=10)\n",
    "    y_pred = np.array(y_pred)\n",
    "    num_classes = 10\n",
    "    labels = range(num_classes)\n",
    "    loss = log_loss(y_pred,y_test,labels=labels)\n",
    "    \n",
    "    print (\"Epoch = \",epochNum,\" Performance = \", rightsAns/10000, \"Loss = \",loss )\n",
    "    return rightsAns/10000, loss\n",
    "    "
   ]
  },
  {
   "cell_type": "code",
   "execution_count": 53,
   "id": "c1acdeab",
   "metadata": {},
   "outputs": [
    {
     "name": "stdout",
     "output_type": "stream",
     "text": [
      "Epoch 1/15\n",
      "200/200 [==============================] - 2s 7ms/step - loss: 0.6115 - accuracy: 0.8366\n",
      "Epoch 2/15\n",
      "200/200 [==============================] - 1s 7ms/step - loss: 0.2794 - accuracy: 0.9165\n",
      "Epoch 3/15\n",
      "200/200 [==============================] - 1s 7ms/step - loss: 0.2511 - accuracy: 0.9254\n",
      "Epoch 4/15\n",
      "200/200 [==============================] - 1s 7ms/step - loss: 0.2383 - accuracy: 0.9288\n",
      "Epoch 5/15\n",
      "200/200 [==============================] - 1s 7ms/step - loss: 0.2232 - accuracy: 0.9338\n",
      "Epoch 6/15\n",
      "200/200 [==============================] - 1s 6ms/step - loss: 0.2070 - accuracy: 0.9377\n",
      "Epoch 7/15\n",
      "200/200 [==============================] - 1s 6ms/step - loss: 0.2089 - accuracy: 0.9371\n",
      "Epoch 8/15\n",
      "200/200 [==============================] - 1s 6ms/step - loss: 0.2076 - accuracy: 0.9386\n",
      "Epoch 9/15\n",
      "200/200 [==============================] - 1s 6ms/step - loss: 0.2047 - accuracy: 0.9396\n",
      "Epoch 10/15\n",
      "200/200 [==============================] - 1s 6ms/step - loss: 0.1919 - accuracy: 0.9432\n",
      "Epoch 11/15\n",
      "200/200 [==============================] - 1s 6ms/step - loss: 0.2010 - accuracy: 0.9393\n",
      "Epoch 12/15\n",
      "200/200 [==============================] - 1s 7ms/step - loss: 0.1997 - accuracy: 0.9406\n",
      "Epoch 13/15\n",
      "200/200 [==============================] - 2s 8ms/step - loss: 0.1975 - accuracy: 0.9420\n",
      "Epoch 14/15\n",
      "200/200 [==============================] - 1s 7ms/step - loss: 0.1911 - accuracy: 0.9442\n",
      "Epoch 15/15\n",
      "200/200 [==============================] - 1s 7ms/step - loss: 0.1948 - accuracy: 0.9420\n"
     ]
    },
    {
     "data": {
      "text/plain": [
       "<keras.callbacks.History at 0x13ae79720>"
      ]
     },
     "execution_count": 53,
     "metadata": {},
     "output_type": "execute_result"
    }
   ],
   "source": [
    "# train the neural network\n",
    "\n",
    "epochs = 5\n",
    "# acc = []\n",
    "# ep = []\n",
    "# loss = []\n",
    "\n",
    "# for e in range(epochs):\n",
    "    \n",
    "#     # go through all records in the training data set\n",
    "#     itr = 0\n",
    "#     for record in inputData:\n",
    "        \n",
    "#         # create the target output values (all 0.01, except the desired label which is 0.99)\n",
    "#         targets = np.zeros(output_nodes) + 0.01\n",
    "#         # all_values[0] is the target label for this record\n",
    "#         targets[int(labels[itr])] = 0.99\n",
    "#         itr += 1\n",
    "#         n.train(record, targets)\n",
    "        \n",
    "#     a , l = test(e)\n",
    "#     acc.append(a)\n",
    "#     loss.append(l)\n",
    "#     ep.append(e)\n",
    "\n",
    "import tensorflow as tf\n",
    "# l1 = np.full((60000,10), 0.0)\n",
    "# for i in range(0,60000):\n",
    "#     l1[i][int(labels[i])] = 1.0\n",
    "    \n",
    "\n",
    "# l2 = np.full((10000,10), 0.0)\n",
    "# for i in range(0,10000):\n",
    "#     l2[i][int(labels_test[i])] = 1.0\n",
    "\n",
    "model = Sequential()\n",
    "model.add(Dense(200, input_dim=784, activation='sigmoid'))\n",
    "model.add(Dense(10, activation='softmax'))\n",
    "\n",
    "model.compile(loss=\"categorical_crossentropy\", optimizer=tf.keras.optimizers.Adam(0.1), metrics=[\"accuracy\"])\n",
    "model.fit(inputData, l1, epochs=15, batch_size=300)\n",
    "\n",
    "    "
   ]
  },
  {
   "cell_type": "code",
   "execution_count": 45,
   "id": "6163c3ce",
   "metadata": {},
   "outputs": [
    {
     "name": "stdout",
     "output_type": "stream",
     "text": [
      "Test loss: 0.07372237741947174\n",
      "Test accuracy: 0.9775000214576721\n"
     ]
    }
   ],
   "source": [
    "\n",
    "# l2 = np.full((10000,10), 0.0)\n",
    "# for i in range(0,10000):\n",
    "#     l2[i][int(labels_test[i])] = 1.0\n",
    "\n",
    "# score = model.evaluate(testingData,l2, verbose=0)\n",
    "# print(\"Test loss:\", score[0])\n",
    "# print(\"Test accuracy:\", score[1])"
   ]
  },
  {
   "cell_type": "code",
   "execution_count": 47,
   "id": "91b04ade",
   "metadata": {},
   "outputs": [
    {
     "name": "stdout",
     "output_type": "stream",
     "text": [
      "313/313 [==============================] - 1s 2ms/step\n"
     ]
    },
    {
     "data": {
      "text/plain": [
       "array([[5.62261557e-04, 4.74831154e-07, 9.98793364e-01, ...,\n",
       "        3.84708292e-05, 6.05745554e-05, 7.57896785e-08],\n",
       "       [3.93850907e-09, 2.31297506e-07, 6.52516219e-09, ...,\n",
       "        2.21254195e-05, 2.04036027e-07, 9.99810219e-01],\n",
       "       [3.20106096e-07, 6.44433430e-06, 1.05768027e-06, ...,\n",
       "        2.86826889e-07, 1.35337643e-03, 2.72524776e-03],\n",
       "       ...,\n",
       "       [2.94490183e-05, 1.09816703e-03, 6.35232500e-05, ...,\n",
       "        3.95258069e-02, 1.20448494e-04, 9.57588613e-01],\n",
       "       [2.04937987e-05, 1.88156027e-05, 4.26582774e-05, ...,\n",
       "        3.03850061e-06, 2.07016237e-05, 3.66298736e-05],\n",
       "       [9.55167767e-09, 3.46375804e-04, 2.28538283e-05, ...,\n",
       "        6.47962734e-04, 2.77334196e-03, 3.02277319e-03]], dtype=float32)"
      ]
     },
     "execution_count": 47,
     "metadata": {},
     "output_type": "execute_result"
    }
   ],
   "source": [
    "# y_pred = model.predict(testingData)\n",
    "# y_pred"
   ]
  },
  {
   "cell_type": "code",
   "execution_count": 51,
   "id": "55f421d2",
   "metadata": {},
   "outputs": [
    {
     "name": "stdout",
     "output_type": "stream",
     "text": [
      "2\n"
     ]
    },
    {
     "data": {
      "text/plain": [
       "2"
      ]
     },
     "execution_count": 51,
     "metadata": {},
     "output_type": "execute_result"
    }
   ],
   "source": [
    "print(labels_test[0])\n",
    "np.argmax(y_pred[0])"
   ]
  },
  {
   "cell_type": "code",
   "execution_count": 20,
   "id": "56ab17db",
   "metadata": {},
   "outputs": [
    {
     "data": {
      "image/png": "[encoded data removed]",
      "text/plain": [
       "<Figure size 640x480 with 1 Axes>"
      ]
     },
     "metadata": {},
     "output_type": "display_data"
    },
    {
     "data": {
      "image/png": "[encoded data removed]",
      "text/plain": [
       "<Figure size 640x480 with 1 Axes>"
      ]
     },
     "metadata": {},
     "output_type": "display_data"
    }
   ],
   "source": [
    "import matplotlib.pyplot as plt\n",
    "\n",
    "\n",
    "plt.xlabel('Epoch - axis') \n",
    "# naming the y axis \n",
    "plt.ylabel('Accuracy - axis')\n",
    "\n",
    "plt.plot(ep, acc)\n",
    "plt.show()\n",
    "plt.plot(ep, loss)\n",
    "plt.show()"
   ]
  },
  {
   "cell_type": "markdown",
   "id": "5ded85ca",
   "metadata": {},
   "source": [
    "# Code Below is just for testing purpose"
   ]
  },
  {
   "cell_type": "code",
   "execution_count": 13,
   "id": "f7b42084",
   "metadata": {},
   "outputs": [],
   "source": [
    "def predict(Img):\n",
    "    # query the network\n",
    "    outputs = n.query(Img)\n",
    "    # the index of the highest value corresponds to the label\n",
    "    label = np.argmax(outputs)\n",
    "    print(label)"
   ]
  },
  {
   "cell_type": "code",
   "execution_count": 14,
   "id": "a5eb8570",
   "metadata": {},
   "outputs": [],
   "source": [
    "import matplotlib.pyplot as py\n",
    "img = cv.imread(\"./uploads/37.jpg\" , 0)\n",
    "# inverted_img = cv.bitwise_not(img)\n",
    "# Resizing\n",
    "resizedImage = cv.resize(img, (28, 28), interpolation=cv.INTER_AREA)\n",
    "resizedImage = cv.normalize(resizedImage, None, 0.01, 1.0, cv.NORM_MINMAX, dtype=cv.CV_32F)"
   ]
  },
  {
   "cell_type": "code",
   "execution_count": 15,
   "id": "e34b8507",
   "metadata": {},
   "outputs": [],
   "source": [
    "finalImg = resizedImage.reshape((1,784))[0]"
   ]
  },
  {
   "cell_type": "code",
   "execution_count": 16,
   "id": "04a3dc9c",
   "metadata": {},
   "outputs": [
    {
     "name": "stdout",
     "output_type": "stream",
     "text": [
      "1\n"
     ]
    }
   ],
   "source": [
    "predict(finalImg)"
   ]
  }
 ],
 "metadata": {
  "kernelspec": {
   "display_name": "Python 3 (ipykernel)",
   "language": "python",
   "name": "python3"
  },
  "language_info": {
   "codemirror_mode": {
    "name": "ipython",
    "version": 3
   },
   "file_extension": ".py",
   "mimetype": "text/x-python",
   "name": "python",
   "nbconvert_exporter": "python",
   "pygments_lexer": "ipython3",
   "version": "3.10.4"
  }
 },
 "nbformat": 4,
 "nbformat_minor": 5
}
